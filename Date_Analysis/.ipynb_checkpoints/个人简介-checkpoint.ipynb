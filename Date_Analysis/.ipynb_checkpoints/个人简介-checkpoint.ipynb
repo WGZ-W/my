{
 "cells": [
  {
   "cell_type": "markdown",
   "id": "cbf851b3",
   "metadata": {},
   "source": [
    "# 个人简介\n",
    "## 基本信息\n",
    "**姓名** ：王撅     **年龄**： 21   **职业**：养猪\n",
    "### 爱好：\n",
    "- 积极爱好\n",
    "    - 读书\n",
    "    - 看电影\n",
    "    - 和咖啡\n",
    "- 消极爱好\n",
    "    - 抽烟\n",
    "    - 喝酒\n",
    "    - 烫头\n",
    "\n",
    "## 联系方式\n",
    "1. 博客：http://blog.csdn.net/wirelessqa\n",
    "2. 微博：http://www.weibo.com/wirelessqa"
   ]
  },
  {
   "cell_type": "code",
   "execution_count": null,
   "id": "0af4c69b",
   "metadata": {},
   "outputs": [],
   "source": []
  },
  {
   "cell_type": "code",
   "execution_count": null,
   "id": "045d3bc0",
   "metadata": {},
   "outputs": [],
   "source": []
  }
 ],
 "metadata": {
  "kernelspec": {
   "display_name": "Python 3 (ipykernel)",
   "language": "python",
   "name": "python3"
  },
  "language_info": {
   "codemirror_mode": {
    "name": "ipython",
    "version": 3
   },
   "file_extension": ".py",
   "mimetype": "text/x-python",
   "name": "python",
   "nbconvert_exporter": "python",
   "pygments_lexer": "ipython3",
   "version": "3.10.4"
  }
 },
 "nbformat": 4,
 "nbformat_minor": 5
}
